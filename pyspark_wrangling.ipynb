{
  "nbformat": 4,
  "nbformat_minor": 0,
  "metadata": {
    "colab": {
      "provenance": [],
      "authorship_tag": "ABX9TyN6M3zpbyzR67NeTkxKxc6r"
    },
    "kernelspec": {
      "name": "python3",
      "display_name": "Python 3"
    },
    "language_info": {
      "name": "python"
    }
  },
  "cells": [
    {
      "cell_type": "code",
      "execution_count": 1,
      "metadata": {
        "id": "j9yq0FTYO_hv",
        "colab": {
          "base_uri": "https://localhost:8080/"
        },
        "outputId": "7d9e5945-5873-49a0-86a5-72473e000de2"
      },
      "outputs": [
        {
          "output_type": "stream",
          "name": "stdout",
          "text": [
            "Looking in indexes: https://pypi.org/simple, https://us-python.pkg.dev/colab-wheels/public/simple/\n",
            "Requirement already satisfied: pyspark in /usr/local/lib/python3.8/dist-packages (3.3.1)\n",
            "Requirement already satisfied: py4j==0.10.9.5 in /usr/local/lib/python3.8/dist-packages (from pyspark) (0.10.9.5)\n"
          ]
        }
      ],
      "source": [
        "!pip install pyspark"
      ]
    },
    {
      "cell_type": "code",
      "source": [
        "from pyspark.sql import SparkSession"
      ],
      "metadata": {
        "id": "vPdLz4zlAfM0"
      },
      "execution_count": 2,
      "outputs": []
    },
    {
      "cell_type": "code",
      "source": [
        "spark = SparkSession.builder.master(\"local[*]\").appName(\"pyspark-wrangling\").getOrCreate()\n",
        "spark"
      ],
      "metadata": {
        "colab": {
          "base_uri": "https://localhost:8080/",
          "height": 219
        },
        "id": "HGyw5KKSAiEM",
        "outputId": "19d08951-3d8d-4b4b-b707-c4c582eda491"
      },
      "execution_count": 3,
      "outputs": [
        {
          "output_type": "execute_result",
          "data": {
            "text/plain": [
              "<pyspark.sql.session.SparkSession at 0x7f3ce5592460>"
            ],
            "text/html": [
              "\n",
              "            <div>\n",
              "                <p><b>SparkSession - in-memory</b></p>\n",
              "                \n",
              "        <div>\n",
              "            <p><b>SparkContext</b></p>\n",
              "\n",
              "            <p><a href=\"http://693ff117692f:4040\">Spark UI</a></p>\n",
              "\n",
              "            <dl>\n",
              "              <dt>Version</dt>\n",
              "                <dd><code>v3.3.1</code></dd>\n",
              "              <dt>Master</dt>\n",
              "                <dd><code>local[*]</code></dd>\n",
              "              <dt>AppName</dt>\n",
              "                <dd><code>pyspark-wrangling</code></dd>\n",
              "            </dl>\n",
              "        </div>\n",
              "        \n",
              "            </div>\n",
              "        "
            ]
          },
          "metadata": {},
          "execution_count": 3
        }
      ]
    },
    {
      "cell_type": "code",
      "source": [
        "df = spark.read.option(\"header\", True)\\\n",
        "     .option(\"delimiter\", \",\")\\\n",
        "     .option(\"inferSchema\", True)\\\n",
        "     .csv('file-coderstool.csv')"
      ],
      "metadata": {
        "id": "TbGLwAFCBSJd"
      },
      "execution_count": 4,
      "outputs": []
    },
    {
      "cell_type": "code",
      "source": [
        "df.show(5)"
      ],
      "metadata": {
        "colab": {
          "base_uri": "https://localhost:8080/"
        },
        "id": "Ujy1YonGCEOJ",
        "outputId": "7e6cd7df-7cf5-44f6-dede-b57649dc89d9"
      },
      "execution_count": 5,
      "outputs": [
        {
          "output_type": "stream",
          "name": "stdout",
          "text": [
            "+----------------+-------------------+------------------+-----------------+--------------------+------------+--------------------+-----------+\n",
            "|         sale_id|          sale_date|customer_firstname|customer_lastname|      customer_email|     country|                city|final_price|\n",
            "+----------------+-------------------+------------------+-----------------+--------------------+------------+--------------------+-----------+\n",
            "|0QEH4XSL51HKUXQN|1971-09-15 00:00:00|            Simone|              Kim|laurenceellsworth...|     Georgia|       Hanley Grange|      39.75|\n",
            "|JVO6LY6JZFUMGQPD|2013-10-20 00:00:00|            Lyndon|          Bottoms|wardwhitney6@yaho...|  Seychelles|         Portchester|       87.0|\n",
            "|HBXBOUZUISUES03J|1995-05-04 00:00:00|            Tyisha|          Tidwell|joya-bevins4@yaho...|      Sweden|           Penistone|       53.9|\n",
            "|48S1IJT7RU7ER3A6|1997-03-22 00:00:00|          Michaela|            Close|jayson.olsen@hotm...|     Namibia| Stratford upon Avon|      71.12|\n",
            "|AT5Q7CUD44ZC8XOF|1995-06-27 00:00:00|            Benton|          Ralston|brittani.kirkland...|Sierra Leone|Cockenzie and Por...|      45.49|\n",
            "+----------------+-------------------+------------------+-----------------+--------------------+------------+--------------------+-----------+\n",
            "only showing top 5 rows\n",
            "\n"
          ]
        }
      ]
    }
  ]
}