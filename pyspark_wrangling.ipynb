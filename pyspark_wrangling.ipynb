{
  "nbformat": 4,
  "nbformat_minor": 0,
  "metadata": {
    "colab": {
      "provenance": [],
      "authorship_tag": "ABX9TyPl11Arqj16Qm58Nk03cVQ0"
    },
    "kernelspec": {
      "name": "python3",
      "display_name": "Python 3"
    },
    "language_info": {
      "name": "python"
    }
  },
  "cells": [
    {
      "cell_type": "code",
      "execution_count": 1,
      "metadata": {
        "id": "j9yq0FTYO_hv",
        "colab": {
          "base_uri": "https://localhost:8080/"
        },
        "outputId": "ce2c5cc8-ab59-4c63-abde-af814367d2ff"
      },
      "outputs": [
        {
          "output_type": "stream",
          "name": "stdout",
          "text": [
            "Looking in indexes: https://pypi.org/simple, https://us-python.pkg.dev/colab-wheels/public/simple/\n",
            "Requirement already satisfied: pyspark in /usr/local/lib/python3.8/dist-packages (3.3.1)\n",
            "Requirement already satisfied: py4j==0.10.9.5 in /usr/local/lib/python3.8/dist-packages (from pyspark) (0.10.9.5)\n"
          ]
        }
      ],
      "source": [
        "!pip install pyspark"
      ]
    },
    {
      "cell_type": "code",
      "source": [
        "from pyspark.sql import SparkSession"
      ],
      "metadata": {
        "id": "vPdLz4zlAfM0"
      },
      "execution_count": 2,
      "outputs": []
    },
    {
      "cell_type": "code",
      "source": [
        "spark = SparkSession.builder.master(\"local[*]\").appName(\"pyspark-wrangling\").getOrCreate()\n",
        "spark"
      ],
      "metadata": {
        "colab": {
          "base_uri": "https://localhost:8080/",
          "height": 219
        },
        "id": "HGyw5KKSAiEM",
        "outputId": "1de9f4f5-b718-405a-fd2c-10246704ede3"
      },
      "execution_count": 3,
      "outputs": [
        {
          "output_type": "execute_result",
          "data": {
            "text/plain": [
              "<pyspark.sql.session.SparkSession at 0x7f5009dd5430>"
            ],
            "text/html": [
              "\n",
              "            <div>\n",
              "                <p><b>SparkSession - in-memory</b></p>\n",
              "                \n",
              "        <div>\n",
              "            <p><b>SparkContext</b></p>\n",
              "\n",
              "            <p><a href=\"http://7bfe861b28c2:4040\">Spark UI</a></p>\n",
              "\n",
              "            <dl>\n",
              "              <dt>Version</dt>\n",
              "                <dd><code>v3.3.1</code></dd>\n",
              "              <dt>Master</dt>\n",
              "                <dd><code>local[*]</code></dd>\n",
              "              <dt>AppName</dt>\n",
              "                <dd><code>pyspark-wrangling</code></dd>\n",
              "            </dl>\n",
              "        </div>\n",
              "        \n",
              "            </div>\n",
              "        "
            ]
          },
          "metadata": {},
          "execution_count": 3
        }
      ]
    },
    {
      "cell_type": "code",
      "source": [
        "df = spark.read.option(\"header\", True)\\\n",
        "     .option(\"delimiter\", \",\")\\\n",
        "     .option(\"inferSchema\", True)\\\n",
        "     .csv('file-coderstool.csv')"
      ],
      "metadata": {
        "id": "TbGLwAFCBSJd"
      },
      "execution_count": 4,
      "outputs": []
    },
    {
      "cell_type": "code",
      "source": [
        "df.show(5)"
      ],
      "metadata": {
        "colab": {
          "base_uri": "https://localhost:8080/"
        },
        "id": "Ujy1YonGCEOJ",
        "outputId": "504ebc11-3173-440d-d4e8-ddf2a703e14f"
      },
      "execution_count": 5,
      "outputs": [
        {
          "output_type": "stream",
          "name": "stdout",
          "text": [
            "+----------------+-------------------+------------------+-----------------+--------------------+------------+--------------------+-----------+\n",
            "|         sale_id|          sale_date|customer_firstname|customer_lastname|      customer_email|     country|                city|final_price|\n",
            "+----------------+-------------------+------------------+-----------------+--------------------+------------+--------------------+-----------+\n",
            "|0QEH4XSL51HKUXQN|1971-09-15 00:00:00|            Simone|              Kim|laurenceellsworth...|     Georgia|       Hanley Grange|      39.75|\n",
            "|JVO6LY6JZFUMGQPD|2013-10-20 00:00:00|            Lyndon|          Bottoms|wardwhitney6@yaho...|  Seychelles|         Portchester|       87.0|\n",
            "|HBXBOUZUISUES03J|1995-05-04 00:00:00|            Tyisha|          Tidwell|joya-bevins4@yaho...|      Sweden|           Penistone|       53.9|\n",
            "|48S1IJT7RU7ER3A6|1997-03-22 00:00:00|          Michaela|            Close|jayson.olsen@hotm...|     Namibia| Stratford upon Avon|      71.12|\n",
            "|AT5Q7CUD44ZC8XOF|1995-06-27 00:00:00|            Benton|          Ralston|brittani.kirkland...|Sierra Leone|Cockenzie and Por...|      45.49|\n",
            "+----------------+-------------------+------------------+-----------------+--------------------+------------+--------------------+-----------+\n",
            "only showing top 5 rows\n",
            "\n"
          ]
        }
      ]
    },
    {
      "cell_type": "code",
      "source": [
        "df.rdd.getNumPartitions()"
      ],
      "metadata": {
        "colab": {
          "base_uri": "https://localhost:8080/"
        },
        "id": "apph0vtZE3ki",
        "outputId": "52da0829-fac1-496b-d718-179cc952c0cd"
      },
      "execution_count": 7,
      "outputs": [
        {
          "output_type": "execute_result",
          "data": {
            "text/plain": [
              "1"
            ]
          },
          "metadata": {},
          "execution_count": 7
        }
      ]
    },
    {
      "cell_type": "code",
      "source": [
        "df.printSchema()"
      ],
      "metadata": {
        "colab": {
          "base_uri": "https://localhost:8080/"
        },
        "id": "NgaiXsa4ITpk",
        "outputId": "59ba7cf9-2134-44b9-b74e-5a9c344ddf44"
      },
      "execution_count": 14,
      "outputs": [
        {
          "output_type": "stream",
          "name": "stdout",
          "text": [
            "root\n",
            " |-- sale_id: string (nullable = true)\n",
            " |-- sale_date: timestamp (nullable = true)\n",
            " |-- customer_firstname: string (nullable = true)\n",
            " |-- customer_lastname: string (nullable = true)\n",
            " |-- customer_email: string (nullable = true)\n",
            " |-- country: string (nullable = true)\n",
            " |-- city: string (nullable = true)\n",
            " |-- final_price: double (nullable = true)\n",
            "\n"
          ]
        }
      ]
    },
    {
      "cell_type": "code",
      "source": [
        "df.select(\"final_price\").summary(\"count\", \"min\", \"25%\", \"75%\", \"max\").show()"
      ],
      "metadata": {
        "colab": {
          "base_uri": "https://localhost:8080/"
        },
        "id": "QcMTbDUCIptU",
        "outputId": "e1f05435-b78b-4606-eaae-8cdf5b73b946"
      },
      "execution_count": 17,
      "outputs": [
        {
          "output_type": "stream",
          "name": "stdout",
          "text": [
            "+-------+-----------+\n",
            "|summary|final_price|\n",
            "+-------+-----------+\n",
            "|  count|      10000|\n",
            "|    min|        1.0|\n",
            "|    25%|      25.55|\n",
            "|    75%|      75.33|\n",
            "|    max|      99.98|\n",
            "+-------+-----------+\n",
            "\n"
          ]
        }
      ]
    },
    {
      "cell_type": "code",
      "source": [
        "df.distinct().count()"
      ],
      "metadata": {
        "colab": {
          "base_uri": "https://localhost:8080/"
        },
        "id": "l62Y82-wJMUf",
        "outputId": "ea71a8a2-5434-46e9-9b83-3363f9da598e"
      },
      "execution_count": 23,
      "outputs": [
        {
          "output_type": "execute_result",
          "data": {
            "text/plain": [
              "10000"
            ]
          },
          "metadata": {},
          "execution_count": 23
        }
      ]
    }
  ]
}